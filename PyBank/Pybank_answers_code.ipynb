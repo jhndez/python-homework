{
 "cells": [
  {
   "cell_type": "code",
   "execution_count": 35,
   "metadata": {},
   "outputs": [
    {
     "name": "stdout",
     "output_type": "stream",
     "text": [
      "Financial Analysis\n",
      "-------------------------\n",
      "Total Months: 86\n",
      "Total Revenue: $38382578\n",
      "Average Change: $-2315.12\n",
      "Greatest Increase in Profits: Feb-2012 $1926159\n",
      "Greatest Decrease in Profits: Sep-2013 $-2196167\n",
      "\n"
     ]
    }
   ],
   "source": [
    "import os\n",
    "import csv\n",
    "\n",
    "\n",
    "csvpath = os.path.join(\"C:/Users/johnh/Desktop/PREWORK_JSH/Module-2/python-homework/PyBank/budget_data.csv\")\n",
    "outpath = os.path.join(\"C:/Users/johnh/Desktop/PREWORK_JSH/Module-2/python-homework/PyBank/Pybank_answers.csv\")\n",
    "\n",
    "List=[]\n",
    "count = 0\n",
    "\n",
    "with open(csvpath, 'r') as csvfile:\n",
    "    csvreader= csv.reader(csvfile,delimiter=',')\n",
    "    \n",
    "    header = next(csvreader)  \n",
    " \n",
    "    for row in csvreader:\n",
    "        summ = int(row[1])\n",
    "        List.append(summ)\n",
    "        \n",
    "\n",
    "min = 0\n",
    "max = 0\n",
    "max_key = 0 \n",
    "min_key = 0\n",
    "num = 0\n",
    "chngpl = 0\n",
    "maxswing = [\"\", 0]\n",
    "minswing = [\"\", 99999999]\n",
    "with open(csvpath,'r') as csvfile:\n",
    "    csvreader = csv.DictReader(csvfile, delimiter=',')\n",
    "    \n",
    "    for row in csvreader:\n",
    "        \n",
    "        chngpl = int(row[\"Profit/Losses\"]) - num\n",
    "        num = int(row[\"Profit/Losses\"])\n",
    "        \n",
    "        if max == 0 or max > num:\n",
    "            max = num\n",
    "            max_key = row['Date']\n",
    "               \n",
    "            \n",
    "        if min == 0 or min < num:\n",
    "            min = num\n",
    "            min_key = row['Date']\n",
    "    \n",
    "    \n",
    "        if (chngpl > maxswing[1]):\n",
    "               maxswing[1] = chngpl\n",
    "               \n",
    "\n",
    "        if(chngpl < minswing[1]):\n",
    "            minswing[1] = chngpl\n",
    "    \n",
    "\n",
    "Months = len(List)\n",
    "months2 = Months -1\n",
    "avg_change = 0 \n",
    "last_month = 0\n",
    "first_month= 0 \n",
    "Total = sum(List)\n",
    "\n",
    "for summ in List:\n",
    "    last_month = List[-1]\n",
    "    first_month = List[0]\n",
    "\n",
    "avg_change = round((last_month-first_month)/months2,2)\n",
    "\n",
    "answers = (\n",
    "\n",
    "f\"Financial Analysis\\n\"\n",
    "f\"-------------------------\\n\"\n",
    "f\"Total Months: {Months}\\n\"\n",
    "f\"Total Revenue: ${Total}\\n\"\n",
    "f\"Average Change: ${avg_change}\\n\"\n",
    "f\"Greatest Increase in Profits: {min_key} ${maxswing[1]}\\n\"\n",
    "f\"Greatest Decrease in Profits: {max_key} ${minswing[1]}\\n\"\n",
    "\n",
    ")\n",
    "   \n",
    "print (answers)\n",
    "with open (outpath,\"w\")as txt_file:\n",
    "    txt_file.write(answers)\n",
    "    \n",
    "    "
   ]
  },
  {
   "cell_type": "code",
   "execution_count": null,
   "metadata": {},
   "outputs": [],
   "source": []
  },
  {
   "cell_type": "code",
   "execution_count": null,
   "metadata": {},
   "outputs": [],
   "source": []
  },
  {
   "cell_type": "code",
   "execution_count": null,
   "metadata": {},
   "outputs": [],
   "source": []
  },
  {
   "cell_type": "code",
   "execution_count": null,
   "metadata": {},
   "outputs": [],
   "source": []
  },
  {
   "cell_type": "code",
   "execution_count": null,
   "metadata": {},
   "outputs": [],
   "source": []
  }
 ],
 "metadata": {
  "kernelspec": {
   "display_name": "Python 3",
   "language": "python",
   "name": "python3"
  },
  "language_info": {
   "codemirror_mode": {
    "name": "ipython",
    "version": 3
   },
   "file_extension": ".py",
   "mimetype": "text/x-python",
   "name": "python",
   "nbconvert_exporter": "python",
   "pygments_lexer": "ipython3",
   "version": "3.7.4"
  }
 },
 "nbformat": 4,
 "nbformat_minor": 4
}
